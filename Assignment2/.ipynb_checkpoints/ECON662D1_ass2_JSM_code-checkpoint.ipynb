{
 "cells": [
  {
   "cell_type": "code",
   "execution_count": 1,
   "metadata": {},
   "outputs": [],
   "source": [
    "# NECON662D1 Assignment 2"
   ]
  },
  {
   "cell_type": "code",
   "execution_count": 97,
   "metadata": {},
   "outputs": [],
   "source": [
    "# import modules\n",
    "import numpy as np\n",
    "import pandas as pd\n",
    "import scipy as sp\n",
    "import statsmodels.api as sm"
   ]
  },
  {
   "cell_type": "code",
   "execution_count": 24,
   "metadata": {},
   "outputs": [
    {
     "name": "stdout",
     "output_type": "stream",
     "text": [
      "              0          1          2          3\n",
      "0    332.597273   91.52508  -7.879150  -22.82027\n",
      "1     42.119419   58.32108 -10.377350  -46.89894\n",
      "2    310.603232   71.19264   8.240685  -83.72890\n",
      "3   1087.981690   85.37536  -7.939428  -98.93214\n",
      "4    291.950898   84.63815  28.309510  -80.68243\n",
      "..          ...        ...        ...        ...\n",
      "95  1696.762100   26.54987 -40.947840 -146.96500\n",
      "96   728.001441   69.94029  75.729620 -126.41690\n",
      "97   539.483943   89.50351 -44.335000  -76.11952\n",
      "98    21.440609  100.67600  48.674720  -16.33207\n",
      "99   305.192266  133.57730   4.789128  -10.57532\n",
      "\n",
      "[100 rows x 4 columns]\n"
     ]
    }
   ],
   "source": [
    "# load data\n",
    "in_dir = '/Users/jsmatte/github/ECON662D1/Assignment2'\n",
    "in_file = str(in_dir + '/ass2_dat.txt')\n",
    "df = pd.read_csv(in_file, sep = '\\s+', header = None)\n",
    "print(df)"
   ]
  },
  {
   "cell_type": "code",
   "execution_count": 26,
   "metadata": {},
   "outputs": [
    {
     "name": "stdout",
     "output_type": "stream",
     "text": [
      "              y         x1         x2         x3\n",
      "0    332.597273   91.52508  -7.879150  -22.82027\n",
      "1     42.119419   58.32108 -10.377350  -46.89894\n",
      "2    310.603232   71.19264   8.240685  -83.72890\n",
      "3   1087.981690   85.37536  -7.939428  -98.93214\n",
      "4    291.950898   84.63815  28.309510  -80.68243\n",
      "..          ...        ...        ...        ...\n",
      "95  1696.762100   26.54987 -40.947840 -146.96500\n",
      "96   728.001441   69.94029  75.729620 -126.41690\n",
      "97   539.483943   89.50351 -44.335000  -76.11952\n",
      "98    21.440609  100.67600  48.674720  -16.33207\n",
      "99   305.192266  133.57730   4.789128  -10.57532\n",
      "\n",
      "[100 rows x 4 columns]\n"
     ]
    }
   ],
   "source": [
    "df.columns = ['y', 'x1', 'x2', 'x3']\n",
    "print(df)"
   ]
  },
  {
   "cell_type": "code",
   "execution_count": 35,
   "metadata": {},
   "outputs": [
    {
     "name": "stdout",
     "output_type": "stream",
     "text": [
      "(100, 4)\n",
      "(100, 1)\n",
      "                            OLS Regression Results                            \n",
      "==============================================================================\n",
      "Dep. Variable:                      y   R-squared:                       0.626\n",
      "Model:                            OLS   Adj. R-squared:                  0.614\n",
      "Method:                 Least Squares   F-statistic:                     53.54\n",
      "Date:                Wed, 11 Nov 2020   Prob (F-statistic):           2.00e-20\n",
      "Time:                        17:08:53   Log-Likelihood:                -679.21\n",
      "No. Observations:                 100   AIC:                             1366.\n",
      "Df Residuals:                      96   BIC:                             1377.\n",
      "Df Model:                           3                                         \n",
      "Covariance Type:            nonrobust                                         \n",
      "==============================================================================\n",
      "                 coef    std err          t      P>|t|      [0.025      0.975]\n",
      "------------------------------------------------------------------------------\n",
      "const       -307.9884    117.223     -2.627      0.010    -540.675     -75.302\n",
      "x1             3.9160      1.053      3.718      0.000       1.825       6.007\n",
      "x2            -4.0206      0.914     -4.400      0.000      -5.834      -2.207\n",
      "x3            -8.4816      0.758    -11.187      0.000      -9.986      -6.977\n",
      "==============================================================================\n",
      "Omnibus:                        4.854   Durbin-Watson:                   1.580\n",
      "Prob(Omnibus):                  0.088   Jarque-Bera (JB):                4.460\n",
      "Skew:                           0.360   Prob(JB):                        0.108\n",
      "Kurtosis:                       3.743   Cond. No.                         545.\n",
      "==============================================================================\n",
      "\n",
      "Notes:\n",
      "[1] Standard Errors assume that the covariance matrix of the errors is correctly specified.\n",
      "\n",
      "Residual Std. Error:  219.99409188604636\n"
     ]
    }
   ],
   "source": [
    "# create matrix X of the regressors\n",
    "X = np.zeros((len(df),4))\n",
    "for i in range(X.shape[0]):\n",
    "    X[i] = [1, df.x1.values[i], df.x2.values[i], df.x3.values[i]]\n",
    "print(X.shape)\n",
    "\n",
    "# create vector y of observations\n",
    "y = np.array([[j] for j in df.y.values])\n",
    "print(y.shape)\n",
    "\n",
    "# Regression Model\n",
    "model = sm.OLS(y, X).fit()\n",
    "print(model.summary())\n",
    "print()\n",
    "print('Residual Std. Error: ',  np.sqrt(model.scale))"
   ]
  },
  {
   "cell_type": "code",
   "execution_count": 62,
   "metadata": {},
   "outputs": [
    {
     "name": "stdout",
     "output_type": "stream",
     "text": [
      "[-307.98841316    3.91597727   -4.02059773   -8.48159487]\n"
     ]
    }
   ],
   "source": [
    "# Model parameters\n",
    "print(model.params)\n",
    "beta0 = model.params[0]\n",
    "beta1 = model.params[1]\n",
    "beta2 = model.params[2]\n",
    "beta3 = model.params[3]"
   ]
  },
  {
   "cell_type": "code",
   "execution_count": 89,
   "metadata": {},
   "outputs": [
    {
     "name": "stdout",
     "output_type": "stream",
     "text": [
      "(100,)\n",
      "(100,)\n",
      "100\n"
     ]
    }
   ],
   "source": [
    "# predictions, residuals and disturbances\n",
    "pred = model.fittedvalues\n",
    "print(pred.shape)\n",
    "\n",
    "resid = model.resid\n",
    "print(resid.shape)\n",
    "\n",
    "dist = []\n",
    "for m in range(len(y)):\n",
    "    dist.append(y[m][0] - beta0 - beta1*X[m][1] - beta2*X[m][2] - beta3*X[m][3])\n",
    "print(len(dist))"
   ]
  },
  {
   "cell_type": "code",
   "execution_count": 90,
   "metadata": {},
   "outputs": [],
   "source": [
    "# a) estimates of the covariance matrix of \\hat{\\beta}\n",
    "# i) standard OLS estimate\n",
    "# ii) HCo, HC1, HC2, HC3, HC4\n",
    "# iii) Newwy-West HAC"
   ]
  },
  {
   "cell_type": "code",
   "execution_count": 91,
   "metadata": {},
   "outputs": [
    {
     "name": "stdout",
     "output_type": "stream",
     "text": [
      "[[ 1.37412989e+04 -1.14577856e+02  8.04444087e+00  6.76760297e+01]\n",
      " [-1.14577856e+02  1.10947664e+00 -1.64873513e-01 -4.22071133e-01]\n",
      " [ 8.04444087e+00 -1.64873513e-01  8.34828446e-01 -1.68916430e-02]\n",
      " [ 6.76760297e+01 -4.22071133e-01 -1.68916430e-02  5.74773180e-01]]\n",
      "\n",
      "[[ 1.37412989e+04 -1.14577856e+02  8.04444087e+00  6.76760297e+01]\n",
      " [-1.14577856e+02  1.10947664e+00 -1.64873513e-01 -4.22071133e-01]\n",
      " [ 8.04444087e+00 -1.64873513e-01  8.34828446e-01 -1.68916430e-02]\n",
      " [ 6.76760297e+01 -4.22071133e-01 -1.68916430e-02  5.74773180e-01]]\n"
     ]
    }
   ],
   "source": [
    "# i) standard OLS estimate\n",
    "sum_resid_squared = 0\n",
    "for r in resid:\n",
    "    sum_resid_squared += r**2\n",
    "Vhat_i = (1 / (len(y) - 4)) * sum_resid_squared * np.linalg.inv(np.matmul(X.T, X))\n",
    "print(Vhat_i)\n",
    "print('')\n",
    "print(model.cov_params())"
   ]
  },
  {
   "cell_type": "code",
   "execution_count": 92,
   "metadata": {},
   "outputs": [
    {
     "name": "stdout",
     "output_type": "stream",
     "text": [
      "HC0\n",
      "[[ 1.24530797e+04 -9.57197205e+01 -3.72882783e+00  8.31958443e+01]\n",
      " [-9.57197205e+01  8.66960180e-01  6.63431413e-02 -4.32988909e-01]\n",
      " [-3.72882783e+00  6.63431413e-02  5.68223212e-01  1.48052795e-01]\n",
      " [ 8.31958443e+01 -4.32988909e-01  1.48052795e-01  1.03751374e+00]]\n",
      "\n",
      "[[ 1.24530797e+04 -9.57197205e+01 -3.72882783e+00  8.31958443e+01]\n",
      " [-9.57197205e+01  8.66960180e-01  6.63431413e-02 -4.32988909e-01]\n",
      " [-3.72882783e+00  6.63431413e-02  5.68223212e-01  1.48052795e-01]\n",
      " [ 8.31958443e+01 -4.32988909e-01  1.48052795e-01  1.03751374e+00]]\n",
      "\n",
      "HC1\n",
      "[[ 1.29719580e+04 -9.97080422e+01 -3.88419566e+00  8.66623378e+01]\n",
      " [-9.97080422e+01  9.03083521e-01  6.91074389e-02 -4.51030114e-01]\n",
      " [-3.88419566e+00  6.91074389e-02  5.91899179e-01  1.54221662e-01]\n",
      " [ 8.66623378e+01 -4.51030114e-01  1.54221662e-01  1.08074348e+00]]\n",
      "\n",
      "[[ 1.29719580e+04 -9.97080422e+01 -3.88419566e+00  8.66623378e+01]\n",
      " [-9.97080422e+01  9.03083521e-01  6.91074389e-02 -4.51030114e-01]\n",
      " [-3.88419566e+00  6.91074389e-02  5.91899179e-01  1.54221662e-01]\n",
      " [ 8.66623378e+01 -4.51030114e-01  1.54221662e-01  1.08074348e+00]]\n",
      "\n",
      "HC2\n",
      "[[ 1.31512097e+04 -1.00699376e+02 -3.45217061e+00  8.87534625e+01]\n",
      " [-1.00699376e+02  9.11276205e-01  7.00157549e-02 -4.56216877e-01]\n",
      " [-3.45217061e+00  7.00157549e-02  6.06033330e-01  1.68856411e-01]\n",
      " [ 8.87534625e+01 -4.56216877e-01  1.68856411e-01  1.11947925e+00]]\n",
      "\n",
      "[[ 1.31512097e+04 -1.00699376e+02 -3.45217061e+00  8.87534625e+01]\n",
      " [-1.00699376e+02  9.11276205e-01  7.00157549e-02 -4.56216877e-01]\n",
      " [-3.45217061e+00  7.00157549e-02  6.06033330e-01  1.68856411e-01]\n",
      " [ 8.87534625e+01 -4.56216877e-01  1.68856411e-01  1.11947925e+00]]\n",
      "\n",
      "HC3\n",
      "[[ 1.38970463e+04 -1.05998019e+02 -3.11952648e+00  9.47429613e+01]\n",
      " [-1.05998019e+02  9.58431782e-01  7.39758838e-02 -4.80899607e-01]\n",
      " [-3.11952648e+00  7.39758838e-02  6.46927965e-01  1.92074060e-01]\n",
      " [ 9.47429613e+01 -4.80899607e-01  1.92074060e-01  1.20863960e+00]]\n",
      "\n",
      "[[ 1.38970463e+04 -1.05998019e+02 -3.11952648e+00  9.47429613e+01]\n",
      " [-1.05998019e+02  9.58431782e-01  7.39758838e-02 -4.80899607e-01]\n",
      " [-3.11952648e+00  7.39758838e-02  6.46927965e-01  1.92074060e-01]\n",
      " [ 9.47429613e+01 -4.80899607e-01  1.92074060e-01  1.20863960e+00]]\n",
      "\n"
     ]
    }
   ],
   "source": [
    "# ii) HC0, HC1, HC2, HC3, HC4\n",
    "print('HC0')\n",
    "Ohat_HC0 = np.zeros((len(y),len(y)))\n",
    "for i0 in range(len(y)):\n",
    "    Ohat_HC0[i0][i0] = resid[i0]**2\n",
    "    \n",
    "Vhat_ii_HC0 = np.matmul(np.matmul(np.matmul(np.matmul(np.linalg.inv(np.matmul(X.T, X)), X.T), Ohat_HC0), X), np.linalg.inv(np.matmul(X.T, X)))\n",
    "print(Vhat_ii_HC0)\n",
    "print('')\n",
    "print(model.cov_HC0)\n",
    "print('')\n",
    "\n",
    "print('HC1')\n",
    "Ohat_HC1 = np.zeros((len(y),len(y)))\n",
    "for i1 in range(len(y)):\n",
    "    Ohat_HC1[i1][i1] = dist[i1]**2\n",
    "    \n",
    "Vhat_ii_HC1 = (len(y) / (len(y) - 4)) * np.matmul(np.matmul(np.matmul(np.matmul(np.linalg.inv(np.matmul(X.T, X)), X.T), Ohat_HC1), X), np.linalg.inv(np.matmul(X.T, X)))\n",
    "print(Vhat_ii_HC1)\n",
    "print('')\n",
    "print(model.cov_HC1)\n",
    "print('')\n",
    "\n",
    "print('HC2')\n",
    "Px = np.matmul(X, np.matmul(np.linalg.inv(np.matmul(X.T, X)), X.T))\n",
    "\n",
    "Ohat_HC2 = np.zeros((len(y),len(y)))\n",
    "for i2 in range(len(y)):\n",
    "    Ohat_HC2[i2][i2] = resid[i2]**2 / (1 - Px[i2][i2])\n",
    "    \n",
    "Vhat_ii_HC2 = np.matmul(np.matmul(np.matmul(np.matmul(np.linalg.inv(np.matmul(X.T, X)), X.T), Ohat_HC2), X), np.linalg.inv(np.matmul(X.T, X)))\n",
    "print(Vhat_ii_HC2)\n",
    "print('')\n",
    "print(model.cov_HC2)\n",
    "print('')\n",
    "\n",
    "print('HC3')\n",
    "Ohat_HC3 = np.zeros((len(y),len(y)))\n",
    "for i3 in range(len(y)):\n",
    "    Ohat_HC3[i3][i3] = resid[i3]**2 / ((1 - Px[i3][i3])**2)\n",
    "    \n",
    "Vhat_ii_HC3 = np.matmul(np.matmul(np.matmul(np.matmul(np.linalg.inv(np.matmul(X.T, X)), X.T), Ohat_HC3), X), np.linalg.inv(np.matmul(X.T, X)))\n",
    "print(Vhat_ii_HC3)\n",
    "print('')\n",
    "print(model.cov_HC3)\n",
    "print('')"
   ]
  },
  {
   "cell_type": "code",
   "execution_count": 93,
   "metadata": {},
   "outputs": [],
   "source": [
    "# iii) Newwy-West HAC"
   ]
  },
  {
   "cell_type": "code",
   "execution_count": 94,
   "metadata": {},
   "outputs": [],
   "source": [
    "# 2 standard error of the estimate of coefficient x3 (i.e. standard error of \\hat{\\beta_{3}})"
   ]
  },
  {
   "cell_type": "code",
   "execution_count": 102,
   "metadata": {},
   "outputs": [
    {
     "name": "stdout",
     "output_type": "stream",
     "text": [
      "0.7581379691371817\n",
      "0.7581379691371765\n"
     ]
    }
   ],
   "source": [
    "# i) standard OLS estimate\n",
    "sehat_i = []\n",
    "for ii00 in range(Vhat_i.shape[0]):\n",
    "    sehat_i.append(np.sqrt(Vhat_i[ii00][ii00]))\n",
    "print(sehat_i[3])\n",
    "print(model.bse[3])"
   ]
  },
  {
   "cell_type": "code",
   "execution_count": 104,
   "metadata": {},
   "outputs": [
    {
     "name": "stdout",
     "output_type": "stream",
     "text": [
      "HC0\n",
      "1.0185841832968705\n",
      "1.0185841832968607\n",
      "\n",
      "HC1\n",
      "1.039588128811194\n",
      "1.0395881288111837\n",
      "\n",
      "HC2\n",
      "1.0580544663538576\n",
      "1.058054466353847\n",
      "\n",
      "HC3\n",
      "1.0993814641866588\n",
      "1.0993814641866477\n",
      "\n"
     ]
    }
   ],
   "source": [
    "# ii) HC0, HC1, HC2, HC3, HC4\n",
    "print('HC0')\n",
    "sehat_ii_HC0 = []\n",
    "for ii0 in range(Vhat_ii_HC0.shape[0]):\n",
    "    sehat_ii_HC0.append(np.sqrt(Vhat_ii_HC0[ii0][ii0]))\n",
    "print(sehat_ii_HC0[3])\n",
    "print(model.HC0_se[3])\n",
    "print('')\n",
    "\n",
    "print('HC1')\n",
    "sehat_ii_HC1 = []\n",
    "for ii1 in range(Vhat_ii_HC1.shape[0]):\n",
    "    sehat_ii_HC1.append(np.sqrt(Vhat_ii_HC1[ii1][ii1]))\n",
    "print(sehat_ii_HC1[3])\n",
    "print(model.HC1_se[3])\n",
    "print('')\n",
    "\n",
    "print('HC2')\n",
    "sehat_ii_HC2 = []\n",
    "for ii2 in range(Vhat_ii_HC2.shape[0]):\n",
    "    sehat_ii_HC2.append(np.sqrt(Vhat_ii_HC2[ii2][ii2]))\n",
    "print(sehat_ii_HC2[3])\n",
    "print(model.HC2_se[3])\n",
    "print('')\n",
    "\n",
    "print('HC3')\n",
    "sehat_ii_HC3 = []\n",
    "for ii3 in range(Vhat_ii_HC3.shape[0]):\n",
    "    sehat_ii_HC3.append(np.sqrt(Vhat_ii_HC3[ii3][ii3]))\n",
    "print(sehat_ii_HC3[3])\n",
    "print(model.HC3_se[3])\n",
    "print('')"
   ]
  },
  {
   "cell_type": "code",
   "execution_count": 105,
   "metadata": {},
   "outputs": [],
   "source": [
    "# iii) Newwy-West HAC"
   ]
  },
  {
   "cell_type": "code",
   "execution_count": null,
   "metadata": {},
   "outputs": [],
   "source": []
  }
 ],
 "metadata": {
  "kernelspec": {
   "display_name": "Python 3",
   "language": "python",
   "name": "python3"
  },
  "language_info": {
   "codemirror_mode": {
    "name": "ipython",
    "version": 3
   },
   "file_extension": ".py",
   "mimetype": "text/x-python",
   "name": "python",
   "nbconvert_exporter": "python",
   "pygments_lexer": "ipython3",
   "version": "3.7.3"
  }
 },
 "nbformat": 4,
 "nbformat_minor": 2
}
