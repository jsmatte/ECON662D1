{
 "cells": [
  {
   "cell_type": "code",
   "execution_count": 1,
   "metadata": {},
   "outputs": [],
   "source": [
    "# Code for questions 4.32, 4.33 of the new book"
   ]
  },
  {
   "cell_type": "code",
   "execution_count": 2,
   "metadata": {},
   "outputs": [],
   "source": [
    "# Import modules\n",
    "import numpy as np\n",
    "import pandas as pd\n",
    "import statsmodels.api as sm\n",
    "import matplotlib\n",
    "import matplotlib.pyplot as plt"
   ]
  },
  {
   "cell_type": "code",
   "execution_count": 3,
   "metadata": {
    "scrolled": true
   },
   "outputs": [
    {
     "name": "stdout",
     "output_type": "stream",
     "text": [
      "           Yt      Ct\n",
      "24    77918.8   70680\n",
      "25    78343.0   71328\n",
      "26    78300.9   71216\n",
      "27    78995.4   72456\n",
      "28    77061.9   72052\n",
      "..        ...     ...\n",
      "195  390576.6  359372\n",
      "196  391381.5  363896\n",
      "197  389502.6  364428\n",
      "198  388282.1  366224\n",
      "199  388804.1  371236\n",
      "\n",
      "[176 rows x 2 columns]\n"
     ]
    }
   ],
   "source": [
    "# Import data\n",
    "in_dir = '/Users/jsmatte/github/ECON662D1/Exo'\n",
    "in_file = str(in_dir + '/consumption.data.csv')\n",
    "\n",
    "data = pd.read_csv(in_file, sep = ',', header = None)\n",
    "data = data[24:]\n",
    "data = data.drop(columns = [0, 1, 2])\n",
    "data.columns = ['Yt', 'Ct']\n",
    "print(data)"
   ]
  },
  {
   "cell_type": "code",
   "execution_count": 4,
   "metadata": {},
   "outputs": [
    {
     "name": "stdout",
     "output_type": "stream",
     "text": [
      "           Yt      Ct         yt         ct\n",
      "24    77918.8   70680  11.263423  11.165918\n",
      "25    78343.0   71328  11.268852  11.175044\n",
      "26    78300.9   71216  11.268314  11.173473\n",
      "27    78995.4   72456  11.277145  11.190735\n",
      "28    77061.9   72052  11.252364  11.185143\n",
      "..        ...     ...        ...        ...\n",
      "195  390576.6  359372  12.875379  12.792113\n",
      "196  391381.5  363896  12.877438  12.804623\n",
      "197  389502.6  364428  12.872626  12.806084\n",
      "198  388282.1  366224  12.869487  12.811000\n",
      "199  388804.1  371236  12.870831  12.824593\n",
      "\n",
      "[176 rows x 4 columns]\n"
     ]
    }
   ],
   "source": [
    "# Add ct and yt to dataset\n",
    "data['yt'] = np.log(data.Yt)\n",
    "data['ct'] = np.log(data.Ct)\n",
    "print(data)"
   ]
  },
  {
   "cell_type": "code",
   "execution_count": 5,
   "metadata": {},
   "outputs": [
    {
     "name": "stdout",
     "output_type": "stream",
     "text": [
      "Dct.shape -> (175, 1)\n",
      "Dyt.shape -> (175, 1)\n",
      "                            OLS Regression Results                            \n",
      "==============================================================================\n",
      "Dep. Variable:                      y   R-squared:                       0.191\n",
      "Model:                            OLS   Adj. R-squared:                  0.177\n",
      "Method:                 Least Squares   F-statistic:                     13.47\n",
      "Date:                Wed, 21 Oct 2020   Prob (F-statistic):           6.22e-08\n",
      "Time:                        22:16:27   Log-Likelihood:                 566.26\n",
      "No. Observations:                 175   AIC:                            -1125.\n",
      "Df Residuals:                     171   BIC:                            -1112.\n",
      "Df Model:                           3                                         \n",
      "Covariance Type:            nonrobust                                         \n",
      "==============================================================================\n",
      "                 coef    std err          t      P>|t|      [0.025      0.975]\n",
      "------------------------------------------------------------------------------\n",
      "const          0.0648      0.022      2.931      0.004       0.021       0.108\n",
      "x1            -0.0313      0.023     -1.391      0.166      -0.076       0.013\n",
      "x2             0.2909      0.055      5.263      0.000       0.182       0.400\n",
      "x3             0.0263      0.021      1.240      0.217      -0.016       0.068\n",
      "==============================================================================\n",
      "Omnibus:                       10.519   Durbin-Watson:                   2.299\n",
      "Prob(Omnibus):                  0.005   Jarque-Bera (JB):               11.730\n",
      "Skew:                          -0.472   Prob(JB):                      0.00284\n",
      "Kurtosis:                       3.847   Cond. No.                     1.32e+03\n",
      "==============================================================================\n",
      "\n",
      "Notes:\n",
      "[1] Standard Errors assume that the covariance matrix of the errors is correctly specified.\n",
      "[2] The condition number is large, 1.32e+03. This might indicate that there are\n",
      "strong multicollinearity or other numerical problems.\n"
     ]
    }
   ],
   "source": [
    "# Model (2)\n",
    "\n",
    "# create data for \\Delta ct and \\Delta yt\n",
    "Dct_array = []\n",
    "for i in range(1, len(data.ct.values)):\n",
    "    temp_Dct = data.ct.values[i] - data.ct.values[i - 1]\n",
    "    Dct_array.append(temp_Dct)\n",
    "Dct = np.array([[i] for i in Dct_array])\n",
    "print('Dct.shape ->', Dct.shape)\n",
    "\n",
    "Dyt_array = []\n",
    "for i in range(1, len(data.yt.values)):\n",
    "    temp_Dyt = data.yt.values[i] - data.yt.values[i - 1]\n",
    "    Dyt_array.append(temp_Dyt)\n",
    "Dyt = np.array([[i] for i in Dyt_array])\n",
    "print('Dyt.shape ->', Dyt.shape)\n",
    "\n",
    "# create matrix X of the regressors\n",
    "X2 = np.zeros((175,4))\n",
    "for i in range(X2.shape[0]):\n",
    "    X2[i] = [1, data.ct.values[i], Dyt_array[i], data.yt.values[i]]\n",
    "    \n",
    "# Regression Model\n",
    "model2 = sm.OLS(Dct, X2).fit()\n",
    "print(model2.summary())"
   ]
  },
  {
   "cell_type": "code",
   "execution_count": 6,
   "metadata": {},
   "outputs": [
    {
     "name": "stdout",
     "output_type": "stream",
     "text": [
      "c_t.shape -> (175,)\n",
      "y_t.shape -> (175,)\n",
      "                            OLS Regression Results                            \n",
      "==============================================================================\n",
      "Dep. Variable:                      y   R-squared:                       1.000\n",
      "Model:                            OLS   Adj. R-squared:                  1.000\n",
      "Method:                 Least Squares   F-statistic:                 1.591e+05\n",
      "Date:                Wed, 21 Oct 2020   Prob (F-statistic):          2.52e-294\n",
      "Time:                        22:16:27   Log-Likelihood:                 566.26\n",
      "No. Observations:                 175   AIC:                            -1125.\n",
      "Df Residuals:                     171   BIC:                            -1112.\n",
      "Df Model:                           3                                         \n",
      "Covariance Type:            nonrobust                                         \n",
      "==============================================================================\n",
      "                 coef    std err          t      P>|t|      [0.025      0.975]\n",
      "------------------------------------------------------------------------------\n",
      "const          0.0648      0.022      2.931      0.004       0.021       0.108\n",
      "x1             0.9687      0.023     42.977      0.000       0.924       1.013\n",
      "x2             0.2909      0.055      5.263      0.000       0.182       0.400\n",
      "x3            -0.2646      0.057     -4.668      0.000      -0.376      -0.153\n",
      "==============================================================================\n",
      "Omnibus:                       10.519   Durbin-Watson:                   2.299\n",
      "Prob(Omnibus):                  0.005   Jarque-Bera (JB):               11.730\n",
      "Skew:                          -0.472   Prob(JB):                      0.00284\n",
      "Kurtosis:                       3.847   Cond. No.                     2.27e+03\n",
      "==============================================================================\n",
      "\n",
      "Notes:\n",
      "[1] Standard Errors assume that the covariance matrix of the errors is correctly specified.\n",
      "[2] The condition number is large, 2.27e+03. This might indicate that there are\n",
      "strong multicollinearity or other numerical problems.\n"
     ]
    }
   ],
   "source": [
    "# Model (1)\n",
    "c_t = data.ct.values[1:]\n",
    "print('c_t.shape ->', c_t.shape)\n",
    "\n",
    "y_t = data.yt.values[1:]\n",
    "print('y_t.shape ->', y_t.shape)\n",
    "\n",
    "# create matrix X of the regressors\n",
    "X1 = np.zeros((175,4))\n",
    "for i in range(X1.shape[0]):\n",
    "    X1[i] = [1, data.ct.values[i], y_t[i], data.yt.values[i]]\n",
    "    \n",
    "# Regression Model\n",
    "model1 = sm.OLS(c_t, X1).fit()\n",
    "print(model1.summary())"
   ]
  },
  {
   "cell_type": "code",
   "execution_count": 7,
   "metadata": {},
   "outputs": [
    {
     "name": "stdout",
     "output_type": "stream",
     "text": [
      "0.06477942407360936 0.9686579216895355 0.29089699718315737 -0.2645656640175612\n",
      "0.00962724372020131\n"
     ]
    }
   ],
   "source": [
    "# Extract model parameters from (2) and define parameters for (1)\n",
    "params = model2.params\n",
    "alpha = params[0]\n",
    "beta = params[1] + 1\n",
    "gamma0 = params[2]\n",
    "gamma1 = params[3] - params[2]\n",
    "print(alpha, beta, gamma0, gamma1)\n",
    "\n",
    "cov = np.sqrt(model2.scale)\n",
    "print(cov)"
   ]
  },
  {
   "cell_type": "code",
   "execution_count": 8,
   "metadata": {},
   "outputs": [
    {
     "name": "stdout",
     "output_type": "stream",
     "text": [
      "176\n"
     ]
    }
   ],
   "source": [
    "# Simulation of model (1)\n",
    "iterates = 176\n",
    "ct1 = [data.ct.values[0]]\n",
    "disturbances = []\n",
    "for t in range(1, iterates):\n",
    "    u = np.random.normal(0, cov)\n",
    "    temp_ct = alpha + (beta * ct1[t - 1]) + (gamma0 * data.yt.values[t]) + (gamma1 * data.yt.values[t - 1]) + u\n",
    "    ct1.append(temp_ct)\n",
    "    disturbances.append(u)\n",
    "print(len(ct1))"
   ]
  },
  {
   "cell_type": "code",
   "execution_count": 9,
   "metadata": {},
   "outputs": [
    {
     "name": "stdout",
     "output_type": "stream",
     "text": [
      "                            OLS Regression Results                            \n",
      "==============================================================================\n",
      "Dep. Variable:                      y   R-squared:                       1.000\n",
      "Model:                            OLS   Adj. R-squared:                  1.000\n",
      "Method:                 Least Squares   F-statistic:                 1.591e+05\n",
      "Date:                Wed, 21 Oct 2020   Prob (F-statistic):          2.52e-294\n",
      "Time:                        22:16:27   Log-Likelihood:                 566.26\n",
      "No. Observations:                 175   AIC:                            -1125.\n",
      "Df Residuals:                     171   BIC:                            -1112.\n",
      "Df Model:                           3                                         \n",
      "Covariance Type:            nonrobust                                         \n",
      "==============================================================================\n",
      "                 coef    std err          t      P>|t|      [0.025      0.975]\n",
      "------------------------------------------------------------------------------\n",
      "const          0.0648      0.022      2.931      0.004       0.021       0.108\n",
      "x1             0.9687      0.023     42.977      0.000       0.924       1.013\n",
      "x2             0.2909      0.055      5.263      0.000       0.182       0.400\n",
      "x3            -0.2646      0.057     -4.668      0.000      -0.376      -0.153\n",
      "==============================================================================\n",
      "Omnibus:                       10.519   Durbin-Watson:                   2.299\n",
      "Prob(Omnibus):                  0.005   Jarque-Bera (JB):               11.730\n",
      "Skew:                          -0.472   Prob(JB):                      0.00284\n",
      "Kurtosis:                       3.847   Cond. No.                     2.27e+03\n",
      "==============================================================================\n",
      "\n",
      "Notes:\n",
      "[1] Standard Errors assume that the covariance matrix of the errors is correctly specified.\n",
      "[2] The condition number is large, 2.27e+03. This might indicate that there are\n",
      "strong multicollinearity or other numerical problems.\n"
     ]
    }
   ],
   "source": [
    "# Model (1) on simulated data\n",
    "c_ts = ct1[1:]\n",
    "\n",
    "# create matrix X of the regressors\n",
    "X1s = np.zeros((175,4))\n",
    "for i in range(X1s.shape[0]):\n",
    "    X1s[i] = [1, ct1[i], y_t[i], data.yt.values[i]]\n",
    "\n",
    "# Regression Model\n",
    "model1s = sm.OLS(c_ts, X1s).fit()\n",
    "print(model1.summary())"
   ]
  },
  {
   "cell_type": "code",
   "execution_count": 10,
   "metadata": {},
   "outputs": [
    {
     "name": "stdout",
     "output_type": "stream",
     "text": [
      "175\n",
      "175\n",
      "175\n",
      "175\n"
     ]
    }
   ],
   "source": [
    "# Residuals\n",
    "pred_1 = model1.fittedvalues\n",
    "pred_1s = model1s.fittedvalues\n",
    "print(len(pred_1))\n",
    "print(len(pred_1s))\n",
    "\n",
    "# Residuals of running (1) on simulated data\n",
    "resid_s = []\n",
    "for i in range(len(c_ts)):\n",
    "    resid_s.append(c_ts[i] - pred_1s[i])\n",
    "print(len(resid_s))\n",
    "\n",
    "# Residuals of running (1) on real data\n",
    "resid = []\n",
    "for i in range(len(c_t)):\n",
    "    resid.append(c_t[i] - pred_1[i])\n",
    "print(len(resid))\n",
    "\n",
    "N = [i for i in range(len(c_t))]"
   ]
  },
  {
   "cell_type": "code",
   "execution_count": 11,
   "metadata": {},
   "outputs": [
    {
     "data": {
      "text/plain": [
       "<matplotlib.legend.Legend at 0x11c8ccc88>"
      ]
     },
     "execution_count": 11,
     "metadata": {},
     "output_type": "execute_result"
    },
    {
     "data": {
      "image/png": "[encoded data removed]",
      "text/plain": [
       "<Figure size 432x288 with 1 Axes>"
      ]
     },
     "metadata": {
      "needs_background": "light"
     },
     "output_type": "display_data"
    }
   ],
   "source": [
    "# Plot the residuals\n",
    "%matplotlib inline\n",
    "plt.scatter(N, resid_s, c = 'blue', marker = 'x', label = 'simulated')\n",
    "plt.scatter(N, resid, c = 'red', marker = 'v', label = 'real')\n",
    "plt.hlines(0, N[0], N[-1])\n",
    "plt.xlabel('Observation')\n",
    "plt.ylabel('Residual')\n",
    "plt.title('Residual Plot of Simulated and Real Data')\n",
    "plt.legend(loc = 'upper left')"
   ]
  },
  {
   "cell_type": "code",
   "execution_count": null,
   "metadata": {},
   "outputs": [],
   "source": []
  }
 ],
 "metadata": {
  "kernelspec": {
   "display_name": "Python 3",
   "language": "python",
   "name": "python3"
  },
  "language_info": {
   "codemirror_mode": {
    "name": "ipython",
    "version": 3
   },
   "file_extension": ".py",
   "mimetype": "text/x-python",
   "name": "python",
   "nbconvert_exporter": "python",
   "pygments_lexer": "ipython3",
   "version": "3.7.3"
  }
 },
 "nbformat": 4,
 "nbformat_minor": 2
}
