{
 "cells": [
  {
   "cell_type": "code",
   "execution_count": 1,
   "metadata": {},
   "outputs": [],
   "source": [
    "# ECON 662D1 Midterm - Jean-Sébastien Matte 260913682"
   ]
  },
  {
   "cell_type": "code",
   "execution_count": 2,
   "metadata": {},
   "outputs": [],
   "source": [
    "# Import modules\n",
    "import numpy as np\n",
    "import pandas as pd\n",
    "import statsmodels.api as sm\n",
    "import matplotlib\n",
    "import matplotlib.pyplot as plt"
   ]
  },
  {
   "cell_type": "code",
   "execution_count": 3,
   "metadata": {},
   "outputs": [
    {
     "name": "stdout",
     "output_type": "stream",
     "text": [
      "          Ct       Yt\n",
      "0     554046   612996\n",
      "1     547349   623964\n",
      "2     547376   629424\n",
      "3     545467   636492\n",
      "4     534089   638328\n",
      "..       ...      ...\n",
      "108  1118489  1761120\n",
      "109  1132225  1784600\n",
      "110  1143236  1807972\n",
      "111  1152568  1831992\n",
      "112  1155482  1848904\n",
      "\n",
      "[113 rows x 2 columns]\n"
     ]
    }
   ],
   "source": [
    "# Import data\n",
    "in_dir = '/Users/jsmatte/github/ECON662D1/Midterm'\n",
    "in_file = str(in_dir + '/e662.midterm.20.dat.txt')\n",
    "\n",
    "data = pd.read_csv(in_file, sep = ' ', header = None)\n",
    "data = data.drop(columns = [1, 2, 3])\n",
    "data.columns = ['Ct', 'Yt']\n",
    "print(data)"
   ]
  },
  {
   "cell_type": "code",
   "execution_count": 4,
   "metadata": {},
   "outputs": [
    {
     "name": "stdout",
     "output_type": "stream",
     "text": [
      "          Ct       Yt         ct         yt\n",
      "0     554046   612996  13.225003  13.326114\n",
      "1     547349   623964  13.212842  13.343848\n",
      "2     547376   629424  13.212891  13.352560\n",
      "3     545467   636492  13.209398  13.363727\n",
      "4     534089   638328  13.188318  13.366608\n",
      "..       ...      ...        ...        ...\n",
      "108  1118489  1761120  13.927489  14.381461\n",
      "109  1132225  1784600  13.939695  14.394705\n",
      "110  1143236  1807972  13.949373  14.407716\n",
      "111  1152568  1831992  13.957503  14.420914\n",
      "112  1155482  1848904  13.960028  14.430104\n",
      "\n",
      "[113 rows x 4 columns]\n"
     ]
    }
   ],
   "source": [
    "# Add ct and yt to dataset\n",
    "data['ct'] = np.log(data.Ct)\n",
    "data['yt'] = np.log(data.Yt)\n",
    "print(data)"
   ]
  },
  {
   "cell_type": "code",
   "execution_count": 5,
   "metadata": {},
   "outputs": [
    {
     "name": "stdout",
     "output_type": "stream",
     "text": [
      "Dct.shape -> (112, 1)\n",
      "Dyt.shape -> (112, 1)\n",
      "                            OLS Regression Results                            \n",
      "==============================================================================\n",
      "Dep. Variable:                      y   R-squared:                       0.114\n",
      "Model:                            OLS   Adj. R-squared:                  0.089\n",
      "Method:                 Least Squares   F-statistic:                     4.614\n",
      "Date:                Wed, 21 Oct 2020   Prob (F-statistic):            0.00446\n",
      "Time:                        22:16:55   Log-Likelihood:                 423.57\n",
      "No. Observations:                 112   AIC:                            -839.1\n",
      "Df Residuals:                     108   BIC:                            -828.3\n",
      "Df Model:                           3                                         \n",
      "Covariance Type:            nonrobust                                         \n",
      "==============================================================================\n",
      "                 coef    std err          t      P>|t|      [0.025      0.975]\n",
      "------------------------------------------------------------------------------\n",
      "const          0.2162      0.158      1.369      0.174      -0.097       0.529\n",
      "x1            -0.0635      0.043     -1.494      0.138      -0.148       0.021\n",
      "x2             0.3503      0.099      3.528      0.001       0.153       0.547\n",
      "x3             0.0468      0.030      1.542      0.126      -0.013       0.107\n",
      "==============================================================================\n",
      "Omnibus:                       25.837   Durbin-Watson:                   1.653\n",
      "Prob(Omnibus):                  0.000   Jarque-Bera (JB):               64.090\n",
      "Skew:                          -0.835   Prob(JB):                     1.21e-14\n",
      "Kurtosis:                       6.308   Cond. No.                     6.37e+03\n",
      "==============================================================================\n",
      "\n",
      "Notes:\n",
      "[1] Standard Errors assume that the covariance matrix of the errors is correctly specified.\n",
      "[2] The condition number is large, 6.37e+03. This might indicate that there are\n",
      "strong multicollinearity or other numerical problems.\n"
     ]
    }
   ],
   "source": [
    "# Model (2)\n",
    "\n",
    "# create data for \\Delta ct and \\Delta yt\n",
    "Dct_array = []\n",
    "for i in range(1, len(data.ct.values)):\n",
    "    temp_Dct = data.ct.values[i] - data.ct.values[i - 1]\n",
    "    Dct_array.append(temp_Dct)\n",
    "Dct = np.array([[i] for i in Dct_array])\n",
    "print('Dct.shape ->', Dct.shape)\n",
    "\n",
    "Dyt_array = []\n",
    "for i in range(1, len(data.yt.values)):\n",
    "    temp_Dyt = data.yt.values[i] - data.yt.values[i - 1]\n",
    "    Dyt_array.append(temp_Dyt)\n",
    "Dyt = np.array([[i] for i in Dyt_array])\n",
    "print('Dyt.shape ->', Dyt.shape)\n",
    "\n",
    "# create matrix X of the regressors\n",
    "X2 = np.zeros((112,4))\n",
    "for i in range(X2.shape[0]):\n",
    "    X2[i] = [1, data.ct.values[i], Dyt_array[i], data.yt.values[i]]\n",
    "    \n",
    "# Regression Model\n",
    "model2 = sm.OLS(Dct, X2).fit()\n",
    "print(model2.summary())"
   ]
  },
  {
   "cell_type": "code",
   "execution_count": 6,
   "metadata": {},
   "outputs": [
    {
     "name": "stdout",
     "output_type": "stream",
     "text": [
      "0.21622606362067193 0.9364768899336617 0.3503113044205379 -0.30351571627817325\n",
      "0.005613301235072004\n"
     ]
    }
   ],
   "source": [
    "# Extract model parameters and define parameters for (1)\n",
    "params = model2.params\n",
    "alpha = params[0]\n",
    "beta = params[1] + 1\n",
    "gamma0 = params[2]\n",
    "gamma1 = params[3] - params[2]\n",
    "print(alpha, beta, gamma0, gamma1)\n",
    "\n",
    "cov = np.sqrt(model2.scale)\n",
    "print(cov)\n"
   ]
  },
  {
   "cell_type": "code",
   "execution_count": 7,
   "metadata": {},
   "outputs": [
    {
     "name": "stdout",
     "output_type": "stream",
     "text": [
      "113\n"
     ]
    }
   ],
   "source": [
    "# Simulation of model (1)\n",
    "iterates = 113\n",
    "ct1 = [data.ct.values[0]]\n",
    "disturbances = []\n",
    "for t in range(1, iterates):\n",
    "    u = np.random.normal(0, cov)\n",
    "    temp_ct = alpha + (beta * ct1[t - 1]) + (gamma0 * data.yt.values[t]) + (gamma1 * data.yt.values[t - 1]) + u\n",
    "    ct1.append(temp_ct)\n",
    "    disturbances.append(u)\n",
    "print(len(ct1))"
   ]
  },
  {
   "cell_type": "code",
   "execution_count": 8,
   "metadata": {},
   "outputs": [
    {
     "name": "stdout",
     "output_type": "stream",
     "text": [
      "0.07166862402048402 -0.0645633773203027\n",
      "-0.008546226466507451\n"
     ]
    },
    {
     "data": {
      "text/plain": [
       "<matplotlib.legend.Legend at 0x121581470>"
      ]
     },
     "execution_count": 8,
     "metadata": {},
     "output_type": "execute_result"
    },
    {
     "data": {
      "image/png": "[encoded data removed]",
      "text/plain": [
       "<Figure size 432x288 with 1 Axes>"
      ]
     },
     "metadata": {
      "needs_background": "light"
     },
     "output_type": "display_data"
    }
   ],
   "source": [
    "# results from simulation -> ct1\n",
    "# real data -> data.ct.values\n",
    "diff = []\n",
    "for i in range(len(data.ct.values)):\n",
    "    diff.append(ct1[i] - data.ct.values[i])\n",
    "print(max(diff), min(diff))\n",
    "print(np.mean(diff))\n",
    "\n",
    "%matplotlib inline\n",
    "NN = [i for i in range(len(data.ct.values))]\n",
    "plt.scatter(NN, data.ct.values, c = 'red', marker = 'v', label = 'simulated')\n",
    "plt.scatter(NN, ct1, c = 'green', marker = 'o', label = 'real')\n",
    "plt.xlabel('Observation')\n",
    "plt.ylabel('log of Consumption Expenditure')\n",
    "plt.title('Linear Regression Lines')\n",
    "plt.legend(loc = 'upper left')"
   ]
  },
  {
   "cell_type": "code",
   "execution_count": 9,
   "metadata": {},
   "outputs": [
    {
     "name": "stdout",
     "output_type": "stream",
     "text": [
      "[[ 1.32250030e+01  1.32250030e+01  0.00000000e+00]\n",
      " [ 1.32312376e+01  1.32128419e+01  1.83957430e-02]\n",
      " [ 1.32429655e+01  1.32128912e+01  3.00743186e-02]\n",
      " [ 1.32549682e+01  1.32093976e+01  4.55705916e-02]\n",
      " [ 1.32599864e+01  1.31883178e+01  7.16686240e-02]\n",
      " [ 1.32692005e+01  1.32049327e+01  6.42677428e-02]\n",
      " [ 1.32646632e+01  1.32040466e+01  6.06166432e-02]\n",
      " [ 1.32674173e+01  1.32096670e+01  5.77502941e-02]\n",
      " [ 1.32599288e+01  1.32096414e+01  5.02873840e-02]\n",
      " [ 1.32631257e+01  1.32135286e+01  4.95970879e-02]\n",
      " [ 1.32606093e+01  1.32188020e+01  4.18073063e-02]\n",
      " [ 1.32623672e+01  1.32224223e+01  3.99449230e-02]\n",
      " [ 1.32657568e+01  1.32278093e+01  3.79475155e-02]\n",
      " [ 1.32745522e+01  1.32316213e+01  4.29308937e-02]\n",
      " [ 1.32842850e+01  1.32384276e+01  4.58573700e-02]\n",
      " [ 1.32908417e+01  1.32412516e+01  4.95901531e-02]\n",
      " [ 1.32912462e+01  1.32581941e+01  3.30520835e-02]\n",
      " [ 1.32970369e+01  1.32596666e+01  3.73702455e-02]\n",
      " [ 1.32993352e+01  1.32640053e+01  3.53298793e-02]\n",
      " [ 1.32935795e+01  1.32755513e+01  1.80281797e-02]\n",
      " [ 1.32996291e+01  1.32750673e+01  2.45618482e-02]\n",
      " [ 1.33103258e+01  1.32824649e+01  2.78608788e-02]\n",
      " [ 1.33257462e+01  1.32930306e+01  3.27155945e-02]\n",
      " [ 1.33386336e+01  1.32929649e+01  4.56687506e-02]\n",
      " [ 1.33422033e+01  1.33061722e+01  3.60311370e-02]\n",
      " [ 1.33399251e+01  1.33074012e+01  3.25238486e-02]\n",
      " [ 1.33297809e+01  1.33105858e+01  1.91951181e-02]\n",
      " [ 1.33327414e+01  1.33277160e+01  5.02542659e-03]\n",
      " [ 1.33383914e+01  1.33432917e+01 -4.90023301e-03]\n",
      " [ 1.33368836e+01  1.33510022e+01 -1.41185733e-02]\n",
      " [ 1.33423762e+01  1.33641418e+01 -2.17655766e-02]\n",
      " [ 1.33416637e+01  1.33711279e+01 -2.94642059e-02]\n",
      " [ 1.33514498e+01  1.33721566e+01 -2.07068220e-02]\n",
      " [ 1.33554879e+01  1.33848307e+01 -2.93428286e-02]\n",
      " [ 1.33656206e+01  1.33902998e+01 -2.46791554e-02]\n",
      " [ 1.33836102e+01  1.33924974e+01 -8.88716679e-03]\n",
      " [ 1.33903692e+01  1.34063265e+01 -1.59573065e-02]\n",
      " [ 1.33886991e+01  1.34156179e+01 -2.69187856e-02]\n",
      " [ 1.33993580e+01  1.34274570e+01 -2.80989997e-02]\n",
      " [ 1.34002359e+01  1.34371113e+01 -3.68754606e-02]\n",
      " [ 1.34113291e+01  1.34480101e+01 -3.66809963e-02]\n",
      " [ 1.34222080e+01  1.34566661e+01 -3.44581450e-02]\n",
      " [ 1.34235977e+01  1.34693021e+01 -4.57043996e-02]\n",
      " [ 1.34344406e+01  1.34710168e+01 -3.65761989e-02]\n",
      " [ 1.34431184e+01  1.34791871e+01 -3.60686791e-02]\n",
      " [ 1.34611973e+01  1.34807886e+01 -1.95912618e-02]\n",
      " [ 1.34553745e+01  1.34830863e+01 -2.77118584e-02]\n",
      " [ 1.34584549e+01  1.34951565e+01 -3.67016710e-02]\n",
      " [ 1.34713931e+01  1.35098627e+01 -3.84696137e-02]\n",
      " [ 1.34790614e+01  1.35219472e+01 -4.28858735e-02]\n",
      " [ 1.34794990e+01  1.35239744e+01 -4.44753886e-02]\n",
      " [ 1.34866307e+01  1.35339828e+01 -4.73521848e-02]\n",
      " [ 1.35008987e+01  1.35393143e+01 -3.84155315e-02]\n",
      " [ 1.35063319e+01  1.35480180e+01 -4.16860815e-02]\n",
      " [ 1.35037970e+01  1.35573070e+01 -5.35100300e-02]\n",
      " [ 1.35130268e+01  1.35591747e+01 -4.61478988e-02]\n",
      " [ 1.35190010e+01  1.35724308e+01 -5.34298196e-02]\n",
      " [ 1.35257048e+01  1.35773980e+01 -5.16932257e-02]\n",
      " [ 1.35348358e+01  1.35866507e+01 -5.18149235e-02]\n",
      " [ 1.35476120e+01  1.35946906e+01 -4.70785623e-02]\n",
      " [ 1.35560191e+01  1.36085294e+01 -5.25103664e-02]\n",
      " [ 1.35685999e+01  1.36171303e+01 -4.85304683e-02]\n",
      " [ 1.35769355e+01  1.36237651e+01 -4.68296038e-02]\n",
      " [ 1.35815730e+01  1.36332114e+01 -5.16384240e-02]\n",
      " [ 1.35913595e+01  1.36471345e+01 -5.57750113e-02]\n",
      " [ 1.36029742e+01  1.36561244e+01 -5.31501861e-02]\n",
      " [ 1.36165685e+01  1.36670662e+01 -5.04977601e-02]\n",
      " [ 1.36221866e+01  1.36773410e+01 -5.51543677e-02]\n",
      " [ 1.36318095e+01  1.36861909e+01 -5.43813844e-02]\n",
      " [ 1.36433871e+01  1.37012001e+01 -5.78130215e-02]\n",
      " [ 1.36566221e+01  1.37105522e+01 -5.39300634e-02]\n",
      " [ 1.36643083e+01  1.37287232e+01 -6.44149004e-02]\n",
      " [ 1.36720068e+01  1.37365702e+01 -6.45633773e-02]\n",
      " [ 1.36838123e+01  1.37377058e+01 -5.38935045e-02]\n",
      " [ 1.36953026e+01  1.37382990e+01 -4.29964015e-02]\n",
      " [ 1.36952826e+01  1.37261273e+01 -3.08446487e-02]\n",
      " [ 1.36900203e+01  1.37230070e+01 -3.29867726e-02]\n",
      " [ 1.36992167e+01  1.37317049e+01 -3.24881963e-02]\n",
      " [ 1.37106011e+01  1.37425753e+01 -3.19742324e-02]\n",
      " [ 1.37117662e+01  1.37494017e+01 -3.76355638e-02]\n",
      " [ 1.37318418e+01  1.37605220e+01 -2.86802599e-02]\n",
      " [ 1.37330114e+01  1.37689911e+01 -3.59796978e-02]\n",
      " [ 1.37402326e+01  1.37770244e+01 -3.67917295e-02]\n",
      " [ 1.37533997e+01  1.37860725e+01 -3.26728194e-02]\n",
      " [ 1.37736375e+01  1.37878598e+01 -1.42222459e-02]\n",
      " [ 1.37758641e+01  1.37922972e+01 -1.64331327e-02]\n",
      " [ 1.37775776e+01  1.37963675e+01 -1.87899363e-02]\n",
      " [ 1.37815403e+01  1.38024922e+01 -2.09518848e-02]\n",
      " [ 1.37941701e+01  1.38082553e+01 -1.40852439e-02]\n",
      " [ 1.38100274e+01  1.38094110e+01  6.16374811e-04]\n",
      " [ 1.38264093e+01  1.38155166e+01  1.08927589e-02]\n",
      " [ 1.38292591e+01  1.38210114e+01  8.24765322e-03]\n",
      " [ 1.38372628e+01  1.38273037e+01  9.95906893e-03]\n",
      " [ 1.38456216e+01  1.38365017e+01  9.11992697e-03]\n",
      " [ 1.38596743e+01  1.38438959e+01  1.57784123e-02]\n",
      " [ 1.38603439e+01  1.38501197e+01  1.02241911e-02]\n",
      " [ 1.38753093e+01  1.38534757e+01  2.18336255e-02]\n",
      " [ 1.38811350e+01  1.38625974e+01  1.85375900e-02]\n",
      " [ 1.38931154e+01  1.38698501e+01  2.32653815e-02]\n",
      " [ 1.38986036e+01  1.38770722e+01  2.15314434e-02]\n",
      " [ 1.39033538e+01  1.38789885e+01  2.43652780e-02]\n",
      " [ 1.39124253e+01  1.38838792e+01  2.85460705e-02]\n",
      " [ 1.39055039e+01  1.38913163e+01  1.41875481e-02]\n",
      " [ 1.39102144e+01  1.38983257e+01  1.18886974e-02]\n",
      " [ 1.39078099e+01  1.38989184e+01  8.89151197e-03]\n",
      " [ 1.39195826e+01  1.39028591e+01  1.67234885e-02]\n",
      " [ 1.39223506e+01  1.39098230e+01  1.25276213e-02]\n",
      " [ 1.39337524e+01  1.39173593e+01  1.63930974e-02]\n",
      " [ 1.39343517e+01  1.39274892e+01  6.86244952e-03]\n",
      " [ 1.39352458e+01  1.39396953e+01 -4.44944261e-03]\n",
      " [ 1.39419678e+01  1.39493734e+01 -7.40563670e-03]\n",
      " [ 1.39499226e+01  1.39575031e+01 -7.58049703e-03]\n",
      " [ 1.39524610e+01  1.39600281e+01 -7.56712247e-03]]\n"
     ]
    }
   ],
   "source": [
    "check = np.array([[ct1[i], data.ct.values[i], diff[i]] for i in range(len(ct1))])\n",
    "print(check)"
   ]
  },
  {
   "cell_type": "code",
   "execution_count": 10,
   "metadata": {},
   "outputs": [
    {
     "name": "stdout",
     "output_type": "stream",
     "text": [
      "y_t.shape -> (112,)\n",
      "                            OLS Regression Results                            \n",
      "==============================================================================\n",
      "Dep. Variable:                      y   R-squared:                       0.999\n",
      "Model:                            OLS   Adj. R-squared:                  0.999\n",
      "Method:                 Least Squares   F-statistic:                 5.978e+04\n",
      "Date:                Wed, 21 Oct 2020   Prob (F-statistic):          1.03e-173\n",
      "Time:                        22:16:56   Log-Likelihood:                 420.91\n",
      "No. Observations:                 112   AIC:                            -833.8\n",
      "Df Residuals:                     108   BIC:                            -823.0\n",
      "Df Model:                           3                                         \n",
      "Covariance Type:            nonrobust                                         \n",
      "==============================================================================\n",
      "                 coef    std err          t      P>|t|      [0.025      0.975]\n",
      "------------------------------------------------------------------------------\n",
      "const          0.2561      0.099      2.577      0.011       0.059       0.453\n",
      "x1             0.9304      0.023     39.802      0.000       0.884       0.977\n",
      "x2             0.1769      0.093      1.905      0.060      -0.007       0.361\n",
      "x3            -0.1269      0.097     -1.303      0.195      -0.320       0.066\n",
      "==============================================================================\n",
      "Omnibus:                        0.193   Durbin-Watson:                   1.946\n",
      "Prob(Omnibus):                  0.908   Jarque-Bera (JB):                0.373\n",
      "Skew:                          -0.017   Prob(JB):                        0.830\n",
      "Kurtosis:                       2.719   Cond. No.                     6.13e+03\n",
      "==============================================================================\n",
      "\n",
      "Notes:\n",
      "[1] Standard Errors assume that the covariance matrix of the errors is correctly specified.\n",
      "[2] The condition number is large, 6.13e+03. This might indicate that there are\n",
      "strong multicollinearity or other numerical problems.\n"
     ]
    }
   ],
   "source": [
    "# Model (1) from simulated data\n",
    "\n",
    "# The regressands are \n",
    "c_ts = ct1[1:]\n",
    "\n",
    "# create matrix X of the regressors\n",
    "y_t = data.yt.values[1:]\n",
    "print('y_t.shape ->', y_t.shape)\n",
    "\n",
    "X1s = np.zeros((112,4))\n",
    "for i in range(X1s.shape[0]):\n",
    "    X1s[i] = [1, ct1[i], y_t[i], data.yt.values[i]]\n",
    "    \n",
    "# Regression Model\n",
    "model1s = sm.OLS(c_ts, X1s).fit()\n",
    "print(model1s.summary())"
   ]
  },
  {
   "cell_type": "code",
   "execution_count": 11,
   "metadata": {},
   "outputs": [
    {
     "name": "stdout",
     "output_type": "stream",
     "text": [
      "c_t.shape -> (112,)\n",
      "                            OLS Regression Results                            \n",
      "==============================================================================\n",
      "Dep. Variable:                      y   R-squared:                       0.999\n",
      "Model:                            OLS   Adj. R-squared:                  0.999\n",
      "Method:                 Least Squares   F-statistic:                 6.866e+04\n",
      "Date:                Wed, 21 Oct 2020   Prob (F-statistic):          5.86e-177\n",
      "Time:                        22:16:56   Log-Likelihood:                 423.57\n",
      "No. Observations:                 112   AIC:                            -839.1\n",
      "Df Residuals:                     108   BIC:                            -828.3\n",
      "Df Model:                           3                                         \n",
      "Covariance Type:            nonrobust                                         \n",
      "==============================================================================\n",
      "                 coef    std err          t      P>|t|      [0.025      0.975]\n",
      "------------------------------------------------------------------------------\n",
      "const          0.2162      0.158      1.369      0.174      -0.097       0.529\n",
      "x1             0.9365      0.043     22.020      0.000       0.852       1.021\n",
      "x2             0.3503      0.099      3.528      0.001       0.153       0.547\n",
      "x3            -0.3035      0.090     -3.369      0.001      -0.482      -0.125\n",
      "==============================================================================\n",
      "Omnibus:                       25.837   Durbin-Watson:                   1.653\n",
      "Prob(Omnibus):                  0.000   Jarque-Bera (JB):               64.090\n",
      "Skew:                          -0.835   Prob(JB):                     1.21e-14\n",
      "Kurtosis:                       6.308   Cond. No.                     7.88e+03\n",
      "==============================================================================\n",
      "\n",
      "Notes:\n",
      "[1] Standard Errors assume that the covariance matrix of the errors is correctly specified.\n",
      "[2] The condition number is large, 7.88e+03. This might indicate that there are\n",
      "strong multicollinearity or other numerical problems.\n"
     ]
    }
   ],
   "source": [
    "# Model (1)\n",
    "\n",
    "c_t = data.ct.values[1:]\n",
    "print('c_t.shape ->', c_t.shape)\n",
    "\n",
    "# create matrix X of the regressors\n",
    "X1 = np.zeros((112,4))\n",
    "for i in range(X1.shape[0]):\n",
    "    X1[i] = [1, data.ct.values[i], y_t[i], data.yt.values[i]]\n",
    "    \n",
    "# Regression Model\n",
    "model1 = sm.OLS(c_t, X1).fit()\n",
    "print(model1.summary())"
   ]
  },
  {
   "cell_type": "code",
   "execution_count": 12,
   "metadata": {},
   "outputs": [
    {
     "name": "stdout",
     "output_type": "stream",
     "text": [
      "112\n",
      "112\n",
      "112\n",
      "112\n"
     ]
    }
   ],
   "source": [
    "# Residuals\n",
    "pred_1 = model1.fittedvalues\n",
    "pred_1s = model1s.fittedvalues\n",
    "print(len(pred_1))\n",
    "print(len(pred_1s))\n",
    "\n",
    "# Residuals of running (1) on simulated data\n",
    "resid_s = []\n",
    "for i in range(len(c_ts)):\n",
    "    resid_s.append(c_ts[i] - pred_1s[i])\n",
    "print(len(resid_s))\n",
    "\n",
    "# Residuals of running (1) on real data\n",
    "resid = []\n",
    "for i in range(len(c_t)):\n",
    "    resid.append(c_t[i] - pred_1[i])\n",
    "print(len(resid))\n",
    "\n",
    "N = [i for i in range(len(c_t))]"
   ]
  },
  {
   "cell_type": "code",
   "execution_count": 13,
   "metadata": {},
   "outputs": [
    {
     "data": {
      "text/plain": [
       "<matplotlib.legend.Legend at 0x12163c710>"
      ]
     },
     "execution_count": 13,
     "metadata": {},
     "output_type": "execute_result"
    },
    {
     "data": {
      "image/png": "[encoded data removed]",
      "text/plain": [
       "<Figure size 432x288 with 1 Axes>"
      ]
     },
     "metadata": {
      "needs_background": "light"
     },
     "output_type": "display_data"
    }
   ],
   "source": [
    "# Plot the residuals\n",
    "%matplotlib inline\n",
    "plt.scatter(N, resid_s, c = 'blue', marker = 'x', label = 'simulated')\n",
    "plt.scatter(N, resid, c = 'red', marker = 'v', label = 'real')\n",
    "plt.hlines(0, N[0], N[-1])\n",
    "plt.xlabel('Observation')\n",
    "plt.ylabel('Residual')\n",
    "plt.title('Residual Plot of Simulated and Real Data')\n",
    "plt.legend(loc = 'upper left')"
   ]
  },
  {
   "cell_type": "code",
   "execution_count": null,
   "metadata": {},
   "outputs": [],
   "source": []
  },
  {
   "cell_type": "code",
   "execution_count": null,
   "metadata": {},
   "outputs": [],
   "source": []
  },
  {
   "cell_type": "code",
   "execution_count": null,
   "metadata": {},
   "outputs": [],
   "source": []
  },
  {
   "cell_type": "code",
   "execution_count": null,
   "metadata": {},
   "outputs": [],
   "source": []
  },
  {
   "cell_type": "code",
   "execution_count": null,
   "metadata": {},
   "outputs": [],
   "source": []
  },
  {
   "cell_type": "code",
   "execution_count": null,
   "metadata": {},
   "outputs": [],
   "source": []
  },
  {
   "cell_type": "code",
   "execution_count": 14,
   "metadata": {},
   "outputs": [
    {
     "name": "stdout",
     "output_type": "stream",
     "text": [
      "c_t.shape -> (112,)\n",
      "y_t.shape -> (112,)\n"
     ]
    }
   ],
   "source": [
    "# Now, for model (1) (to verify answers for the first part)\n",
    "# create matrix X of the regressors\n",
    "c_t = data.ct.values[1:]\n",
    "print('c_t.shape ->', c_t.shape)\n",
    "\n",
    "y_t = data.yt.values[1:]\n",
    "print('y_t.shape ->', y_t.shape)\n",
    "\n",
    "X11 = np.zeros((112,4))\n",
    "for i in range(X11.shape[0]):\n",
    "    X11[i] = [1, data.ct.values[i], y_t[i], data.yt.values[i]]"
   ]
  },
  {
   "cell_type": "code",
   "execution_count": 15,
   "metadata": {},
   "outputs": [
    {
     "name": "stdout",
     "output_type": "stream",
     "text": [
      "                            OLS Regression Results                            \n",
      "==============================================================================\n",
      "Dep. Variable:                      y   R-squared:                       0.999\n",
      "Model:                            OLS   Adj. R-squared:                  0.999\n",
      "Method:                 Least Squares   F-statistic:                 6.866e+04\n",
      "Date:                Wed, 21 Oct 2020   Prob (F-statistic):          5.86e-177\n",
      "Time:                        22:16:57   Log-Likelihood:                 423.57\n",
      "No. Observations:                 112   AIC:                            -839.1\n",
      "Df Residuals:                     108   BIC:                            -828.3\n",
      "Df Model:                           3                                         \n",
      "Covariance Type:            nonrobust                                         \n",
      "==============================================================================\n",
      "                 coef    std err          t      P>|t|      [0.025      0.975]\n",
      "------------------------------------------------------------------------------\n",
      "const          0.2162      0.158      1.369      0.174      -0.097       0.529\n",
      "x1             0.9365      0.043     22.020      0.000       0.852       1.021\n",
      "x2             0.3503      0.099      3.528      0.001       0.153       0.547\n",
      "x3            -0.3035      0.090     -3.369      0.001      -0.482      -0.125\n",
      "==============================================================================\n",
      "Omnibus:                       25.837   Durbin-Watson:                   1.653\n",
      "Prob(Omnibus):                  0.000   Jarque-Bera (JB):               64.090\n",
      "Skew:                          -0.835   Prob(JB):                     1.21e-14\n",
      "Kurtosis:                       6.308   Cond. No.                     7.88e+03\n",
      "==============================================================================\n",
      "\n",
      "Notes:\n",
      "[1] Standard Errors assume that the covariance matrix of the errors is correctly specified.\n",
      "[2] The condition number is large, 7.88e+03. This might indicate that there are\n",
      "strong multicollinearity or other numerical problems.\n"
     ]
    }
   ],
   "source": [
    "# Create regression model for (1)\n",
    "model11 = sm.OLS(c_t, X11).fit()\n",
    "print(model11.summary())"
   ]
  },
  {
   "cell_type": "code",
   "execution_count": 16,
   "metadata": {},
   "outputs": [],
   "source": [
    "# residuals \n",
    "predictions11 = model11.fittedvalues\n",
    "\n",
    "resid11 = []\n",
    "for i in range(len(c_t)):\n",
    "    resid11.append(c_t[i] - predictions11[i])\n",
    "    \n",
    "N11 = [i for i in range(len(c_t))]"
   ]
  },
  {
   "cell_type": "code",
   "execution_count": 17,
   "metadata": {},
   "outputs": [
    {
     "data": {
      "text/plain": [
       "<matplotlib.collections.LineCollection at 0x121644390>"
      ]
     },
     "execution_count": 17,
     "metadata": {},
     "output_type": "execute_result"
    },
    {
     "data": {
      "image/png": "[encoded data removed]",
      "text/plain": [
       "<Figure size 432x288 with 1 Axes>"
      ]
     },
     "metadata": {
      "needs_background": "light"
     },
     "output_type": "display_data"
    }
   ],
   "source": [
    "# Plot the residuals\n",
    "import matplotlib\n",
    "import matplotlib.pyplot as plt\n",
    "%matplotlib inline\n",
    "# plt.scatter(N, residuals1, c = 'blue', marker = 'x', label = 'simulated')\n",
    "plt.scatter(N11, resid11, c = 'red', marker = 'o', label = 'real')\n",
    "plt.hlines(0, N[0], N[-1])"
   ]
  },
  {
   "cell_type": "code",
   "execution_count": 18,
   "metadata": {},
   "outputs": [
    {
     "data": {
      "text/plain": [
       "<matplotlib.collections.PathCollection at 0x121644710>"
      ]
     },
     "execution_count": 18,
     "metadata": {},
     "output_type": "execute_result"
    },
    {
     "data": {
      "image/png": "[encoded data removed]",
      "text/plain": [
       "<Figure size 432x288 with 1 Axes>"
      ]
     },
     "metadata": {
      "needs_background": "light"
     },
     "output_type": "display_data"
    }
   ],
   "source": [
    "%matplotlib inline\n",
    "plt.scatter(N, predictions11, c = 'red', marker = 'v', label = 'real')\n",
    "plt.scatter(N, c_t, c = 'blue', marker = 'x', label = 'real')"
   ]
  },
  {
   "cell_type": "code",
   "execution_count": null,
   "metadata": {},
   "outputs": [],
   "source": []
  }
 ],
 "metadata": {
  "kernelspec": {
   "display_name": "Python 3",
   "language": "python",
   "name": "python3"
  },
  "language_info": {
   "codemirror_mode": {
    "name": "ipython",
    "version": 3
   },
   "file_extension": ".py",
   "mimetype": "text/x-python",
   "name": "python",
   "nbconvert_exporter": "python",
   "pygments_lexer": "ipython3",
   "version": "3.7.3"
  }
 },
 "nbformat": 4,
 "nbformat_minor": 2
}
