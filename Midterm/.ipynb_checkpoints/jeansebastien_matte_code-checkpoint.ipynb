{
 "cells": [
  {
   "cell_type": "code",
   "execution_count": 1,
   "metadata": {},
   "outputs": [],
   "source": [
    "# ECON 662D1 Midterm - Jean-Sébastien Matte 260913682"
   ]
  },
  {
   "cell_type": "code",
   "execution_count": 2,
   "metadata": {},
   "outputs": [],
   "source": [
    "# Import modules\n",
    "import numpy as np\n",
    "import pandas as pd\n",
    "import statsmodels.api as sm\n",
    "import matplotlib\n",
    "import matplotlib.pyplot as plt"
   ]
  },
  {
   "cell_type": "code",
   "execution_count": 3,
   "metadata": {},
   "outputs": [
    {
     "name": "stdout",
     "output_type": "stream",
     "text": [
      "          Ct       Yt\n",
      "0     554046   612996\n",
      "1     547349   623964\n",
      "2     547376   629424\n",
      "3     545467   636492\n",
      "4     534089   638328\n",
      "..       ...      ...\n",
      "108  1118489  1761120\n",
      "109  1132225  1784600\n",
      "110  1143236  1807972\n",
      "111  1152568  1831992\n",
      "112  1155482  1848904\n",
      "\n",
      "[113 rows x 2 columns]\n"
     ]
    }
   ],
   "source": [
    "# Import data\n",
    "in_dir = '/Users/jsmatte/github/ECON662D1/Midterm'\n",
    "in_file = str(in_dir + '/e662.midterm.20.dat.txt')\n",
    "\n",
    "data = pd.read_csv(in_file, sep = ' ', header = None)\n",
    "data = data.drop(columns = [1, 2, 3])\n",
    "data.columns = ['Ct', 'Yt']\n",
    "print(data)"
   ]
  },
  {
   "cell_type": "code",
   "execution_count": 4,
   "metadata": {},
   "outputs": [
    {
     "name": "stdout",
     "output_type": "stream",
     "text": [
      "          Ct       Yt         ct         yt\n",
      "0     554046   612996  13.225003  13.326114\n",
      "1     547349   623964  13.212842  13.343848\n",
      "2     547376   629424  13.212891  13.352560\n",
      "3     545467   636492  13.209398  13.363727\n",
      "4     534089   638328  13.188318  13.366608\n",
      "..       ...      ...        ...        ...\n",
      "108  1118489  1761120  13.927489  14.381461\n",
      "109  1132225  1784600  13.939695  14.394705\n",
      "110  1143236  1807972  13.949373  14.407716\n",
      "111  1152568  1831992  13.957503  14.420914\n",
      "112  1155482  1848904  13.960028  14.430104\n",
      "\n",
      "[113 rows x 4 columns]\n"
     ]
    }
   ],
   "source": [
    "# Add ct and yt to dataset\n",
    "data['ct'] = np.log(data.Ct)\n",
    "data['yt'] = np.log(data.Yt)\n",
    "print(data)"
   ]
  },
  {
   "cell_type": "code",
   "execution_count": 5,
   "metadata": {},
   "outputs": [
    {
     "name": "stdout",
     "output_type": "stream",
     "text": [
      "Dct.shape -> (112, 1)\n",
      "Dyt.shape -> (112, 1)\n",
      "                            OLS Regression Results                            \n",
      "==============================================================================\n",
      "Dep. Variable:                      y   R-squared:                       0.114\n",
      "Model:                            OLS   Adj. R-squared:                  0.089\n",
      "Method:                 Least Squares   F-statistic:                     4.614\n",
      "Date:                Wed, 21 Oct 2020   Prob (F-statistic):            0.00446\n",
      "Time:                        22:14:06   Log-Likelihood:                 423.57\n",
      "No. Observations:                 112   AIC:                            -839.1\n",
      "Df Residuals:                     108   BIC:                            -828.3\n",
      "Df Model:                           3                                         \n",
      "Covariance Type:            nonrobust                                         \n",
      "==============================================================================\n",
      "                 coef    std err          t      P>|t|      [0.025      0.975]\n",
      "------------------------------------------------------------------------------\n",
      "const          0.2162      0.158      1.369      0.174      -0.097       0.529\n",
      "x1            -0.0635      0.043     -1.494      0.138      -0.148       0.021\n",
      "x2             0.3503      0.099      3.528      0.001       0.153       0.547\n",
      "x3             0.0468      0.030      1.542      0.126      -0.013       0.107\n",
      "==============================================================================\n",
      "Omnibus:                       25.837   Durbin-Watson:                   1.653\n",
      "Prob(Omnibus):                  0.000   Jarque-Bera (JB):               64.090\n",
      "Skew:                          -0.835   Prob(JB):                     1.21e-14\n",
      "Kurtosis:                       6.308   Cond. No.                     6.37e+03\n",
      "==============================================================================\n",
      "\n",
      "Notes:\n",
      "[1] Standard Errors assume that the covariance matrix of the errors is correctly specified.\n",
      "[2] The condition number is large, 6.37e+03. This might indicate that there are\n",
      "strong multicollinearity or other numerical problems.\n"
     ]
    }
   ],
   "source": [
    "# Model (2)\n",
    "\n",
    "# create data for \\Delta ct and \\Delta yt\n",
    "Dct_array = []\n",
    "for i in range(1, len(data.ct.values)):\n",
    "    temp_Dct = data.ct.values[i] - data.ct.values[i - 1]\n",
    "    Dct_array.append(temp_Dct)\n",
    "Dct = np.array([[i] for i in Dct_array])\n",
    "print('Dct.shape ->', Dct.shape)\n",
    "\n",
    "Dyt_array = []\n",
    "for i in range(1, len(data.yt.values)):\n",
    "    temp_Dyt = data.yt.values[i] - data.yt.values[i - 1]\n",
    "    Dyt_array.append(temp_Dyt)\n",
    "Dyt = np.array([[i] for i in Dyt_array])\n",
    "print('Dyt.shape ->', Dyt.shape)\n",
    "\n",
    "# create matrix X of the regressors\n",
    "X2 = np.zeros((112,4))\n",
    "for i in range(X2.shape[0]):\n",
    "    X2[i] = [1, data.ct.values[i], Dyt_array[i], data.yt.values[i]]\n",
    "    \n",
    "# Regression Model\n",
    "model2 = sm.OLS(Dct, X2).fit()\n",
    "print(model2.summary())"
   ]
  },
  {
   "cell_type": "code",
   "execution_count": 6,
   "metadata": {},
   "outputs": [
    {
     "name": "stdout",
     "output_type": "stream",
     "text": [
      "0.21622606362067193 0.9364768899336617 0.3503113044205379 -0.30351571627817325\n",
      "0.005613301235072004\n"
     ]
    }
   ],
   "source": [
    "# Extract model parameters and define parameters for (1)\n",
    "params = model2.params\n",
    "alpha = params[0]\n",
    "beta = params[1] + 1\n",
    "gamma0 = params[2]\n",
    "gamma1 = params[3] - params[2]\n",
    "print(alpha, beta, gamma0, gamma1)\n",
    "\n",
    "stdev = np.sqrt(model2.scale)\n",
    "print(stdev)"
   ]
  },
  {
   "cell_type": "code",
   "execution_count": 7,
   "metadata": {},
   "outputs": [
    {
     "name": "stdout",
     "output_type": "stream",
     "text": [
      "113\n"
     ]
    }
   ],
   "source": [
    "# Simulation of model (1)\n",
    "iterates = 113\n",
    "ct1 = [data.ct.values[0]]\n",
    "disturbances = []\n",
    "for t in range(1, iterates):\n",
    "    u = np.random.normal(0, stdev)\n",
    "    temp_ct = alpha + (beta * ct1[t - 1]) + (gamma0 * data.yt.values[t]) + (gamma1 * data.yt.values[t - 1]) + u\n",
    "    ct1.append(temp_ct)\n",
    "    disturbances.append(u)\n",
    "print(len(ct1))"
   ]
  },
  {
   "cell_type": "code",
   "execution_count": 10,
   "metadata": {},
   "outputs": [
    {
     "name": "stdout",
     "output_type": "stream",
     "text": [
      "y_t.shape -> (112,)\n",
      "                            OLS Regression Results                            \n",
      "==============================================================================\n",
      "Dep. Variable:                      y   R-squared:                       1.000\n",
      "Model:                            OLS   Adj. R-squared:                  1.000\n",
      "Method:                 Least Squares   F-statistic:                 8.115e+04\n",
      "Date:                Wed, 21 Oct 2020   Prob (F-statistic):          7.06e-181\n",
      "Time:                        22:14:06   Log-Likelihood:                 435.10\n",
      "No. Observations:                 112   AIC:                            -862.2\n",
      "Df Residuals:                     108   BIC:                            -851.3\n",
      "Df Model:                           3                                         \n",
      "Covariance Type:            nonrobust                                         \n",
      "==============================================================================\n",
      "                 coef    std err          t      P>|t|      [0.025      0.975]\n",
      "------------------------------------------------------------------------------\n",
      "const          0.6374      0.149      4.267      0.000       0.341       0.933\n",
      "x1             0.8264      0.038     21.566      0.000       0.750       0.902\n",
      "x2             0.2274      0.080      2.829      0.006       0.068       0.387\n",
      "x3            -0.1033      0.087     -1.193      0.235      -0.275       0.068\n",
      "==============================================================================\n",
      "Omnibus:                        0.345   Durbin-Watson:                   1.696\n",
      "Prob(Omnibus):                  0.842   Jarque-Bera (JB):                0.078\n",
      "Skew:                           0.016   Prob(JB):                        0.962\n",
      "Kurtosis:                       3.125   Cond. No.                     7.96e+03\n",
      "==============================================================================\n",
      "\n",
      "Notes:\n",
      "[1] Standard Errors assume that the covariance matrix of the errors is correctly specified.\n",
      "[2] The condition number is large, 7.96e+03. This might indicate that there are\n",
      "strong multicollinearity or other numerical problems.\n"
     ]
    }
   ],
   "source": [
    "# Model (1) from simulated data\n",
    "\n",
    "c_ts = ct1[1:]\n",
    "\n",
    "# create matrix X of the regressors\n",
    "y_t = data.yt.values[1:]\n",
    "print('y_t.shape ->', y_t.shape)\n",
    "\n",
    "X1s = np.zeros((112,4))\n",
    "for i in range(X1s.shape[0]):\n",
    "    X1s[i] = [1, ct1[i], y_t[i], data.yt.values[i]]\n",
    "    \n",
    "# Regression Model\n",
    "model1s = sm.OLS(c_ts, X1s).fit()\n",
    "print(model1s.summary())"
   ]
  },
  {
   "cell_type": "code",
   "execution_count": 11,
   "metadata": {},
   "outputs": [
    {
     "name": "stdout",
     "output_type": "stream",
     "text": [
      "c_t.shape -> (112,)\n",
      "                            OLS Regression Results                            \n",
      "==============================================================================\n",
      "Dep. Variable:                      y   R-squared:                       0.999\n",
      "Model:                            OLS   Adj. R-squared:                  0.999\n",
      "Method:                 Least Squares   F-statistic:                 6.866e+04\n",
      "Date:                Wed, 21 Oct 2020   Prob (F-statistic):          5.86e-177\n",
      "Time:                        22:14:06   Log-Likelihood:                 423.57\n",
      "No. Observations:                 112   AIC:                            -839.1\n",
      "Df Residuals:                     108   BIC:                            -828.3\n",
      "Df Model:                           3                                         \n",
      "Covariance Type:            nonrobust                                         \n",
      "==============================================================================\n",
      "                 coef    std err          t      P>|t|      [0.025      0.975]\n",
      "------------------------------------------------------------------------------\n",
      "const          0.2162      0.158      1.369      0.174      -0.097       0.529\n",
      "x1             0.9365      0.043     22.020      0.000       0.852       1.021\n",
      "x2             0.3503      0.099      3.528      0.001       0.153       0.547\n",
      "x3            -0.3035      0.090     -3.369      0.001      -0.482      -0.125\n",
      "==============================================================================\n",
      "Omnibus:                       25.837   Durbin-Watson:                   1.653\n",
      "Prob(Omnibus):                  0.000   Jarque-Bera (JB):               64.090\n",
      "Skew:                          -0.835   Prob(JB):                     1.21e-14\n",
      "Kurtosis:                       6.308   Cond. No.                     7.88e+03\n",
      "==============================================================================\n",
      "\n",
      "Notes:\n",
      "[1] Standard Errors assume that the covariance matrix of the errors is correctly specified.\n",
      "[2] The condition number is large, 7.88e+03. This might indicate that there are\n",
      "strong multicollinearity or other numerical problems.\n"
     ]
    }
   ],
   "source": [
    "# Model (1)\n",
    "\n",
    "c_t = data.ct.values[1:]\n",
    "print('c_t.shape ->', c_t.shape)\n",
    "\n",
    "# create matrix X of the regressors\n",
    "X1 = np.zeros((112,4))\n",
    "for i in range(X1.shape[0]):\n",
    "    X1[i] = [1, data.ct.values[i], y_t[i], data.yt.values[i]]\n",
    "    \n",
    "# Regression Model\n",
    "model1 = sm.OLS(c_t, X1).fit()\n",
    "print(model1.summary())"
   ]
  },
  {
   "cell_type": "code",
   "execution_count": 12,
   "metadata": {},
   "outputs": [
    {
     "name": "stdout",
     "output_type": "stream",
     "text": [
      "112\n",
      "112\n",
      "112\n",
      "112\n"
     ]
    }
   ],
   "source": [
    "# Residuals\n",
    "pred_1 = model1.fittedvalues\n",
    "pred_1s = model1s.fittedvalues\n",
    "print(len(pred_1))\n",
    "print(len(pred_1s))\n",
    "\n",
    "# Residuals of running (1) on simulated data\n",
    "resid_s = []\n",
    "for i in range(len(c_ts)):\n",
    "    resid_s.append(c_ts[i] - pred_1s[i])\n",
    "print(len(resid_s))\n",
    "\n",
    "# Residuals of running (1) on real data\n",
    "resid = []\n",
    "for i in range(len(c_t)):\n",
    "    resid.append(c_t[i] - pred_1[i])\n",
    "print(len(resid))\n",
    "\n",
    "N = [i for i in range(len(c_t))]"
   ]
  },
  {
   "cell_type": "code",
   "execution_count": 13,
   "metadata": {},
   "outputs": [
    {
     "data": {
      "text/plain": [
       "<matplotlib.legend.Legend at 0x1184c5860>"
      ]
     },
     "execution_count": 13,
     "metadata": {},
     "output_type": "execute_result"
    },
    {
     "data": {
      "image/png": "[encoded data removed]",
      "text/plain": [
       "<Figure size 432x288 with 1 Axes>"
      ]
     },
     "metadata": {
      "needs_background": "light"
     },
     "output_type": "display_data"
    }
   ],
   "source": [
    "# Plot the residuals\n",
    "%matplotlib inline\n",
    "plt.scatter(N, resid_s, c = 'blue', marker = 'x', label = 'simulated')\n",
    "plt.scatter(N, resid, c = 'red', marker = 'v', label = 'real')\n",
    "plt.hlines(0, N[0], N[-1])\n",
    "plt.xlabel('Observation')\n",
    "plt.ylabel('Residual')\n",
    "plt.title('Residual Plot of Simulated and Real Data')\n",
    "plt.legend(loc = 'upper left')"
   ]
  },
  {
   "cell_type": "code",
   "execution_count": null,
   "metadata": {},
   "outputs": [],
   "source": []
  },
  {
   "cell_type": "code",
   "execution_count": null,
   "metadata": {},
   "outputs": [],
   "source": []
  },
  {
   "cell_type": "code",
   "execution_count": null,
   "metadata": {},
   "outputs": [],
   "source": []
  },
  {
   "cell_type": "code",
   "execution_count": null,
   "metadata": {},
   "outputs": [],
   "source": []
  },
  {
   "cell_type": "code",
   "execution_count": null,
   "metadata": {},
   "outputs": [],
   "source": []
  },
  {
   "cell_type": "code",
   "execution_count": null,
   "metadata": {},
   "outputs": [],
   "source": []
  },
  {
   "cell_type": "code",
   "execution_count": 14,
   "metadata": {},
   "outputs": [
    {
     "name": "stdout",
     "output_type": "stream",
     "text": [
      "c_t.shape -> (112,)\n",
      "y_t.shape -> (112,)\n"
     ]
    }
   ],
   "source": [
    "# Now, for model (1) (to verify answers for the first part)\n",
    "# create matrix X of the regressors\n",
    "c_t = data.ct.values[1:]\n",
    "print('c_t.shape ->', c_t.shape)\n",
    "\n",
    "y_t = data.yt.values[1:]\n",
    "print('y_t.shape ->', y_t.shape)\n",
    "\n",
    "X11 = np.zeros((112,4))\n",
    "for i in range(X11.shape[0]):\n",
    "    X11[i] = [1, data.ct.values[i], y_t[i], data.yt.values[i]]"
   ]
  },
  {
   "cell_type": "code",
   "execution_count": 15,
   "metadata": {},
   "outputs": [
    {
     "name": "stdout",
     "output_type": "stream",
     "text": [
      "                            OLS Regression Results                            \n",
      "==============================================================================\n",
      "Dep. Variable:                      y   R-squared:                       0.999\n",
      "Model:                            OLS   Adj. R-squared:                  0.999\n",
      "Method:                 Least Squares   F-statistic:                 6.866e+04\n",
      "Date:                Wed, 21 Oct 2020   Prob (F-statistic):          5.86e-177\n",
      "Time:                        22:14:07   Log-Likelihood:                 423.57\n",
      "No. Observations:                 112   AIC:                            -839.1\n",
      "Df Residuals:                     108   BIC:                            -828.3\n",
      "Df Model:                           3                                         \n",
      "Covariance Type:            nonrobust                                         \n",
      "==============================================================================\n",
      "                 coef    std err          t      P>|t|      [0.025      0.975]\n",
      "------------------------------------------------------------------------------\n",
      "const          0.2162      0.158      1.369      0.174      -0.097       0.529\n",
      "x1             0.9365      0.043     22.020      0.000       0.852       1.021\n",
      "x2             0.3503      0.099      3.528      0.001       0.153       0.547\n",
      "x3            -0.3035      0.090     -3.369      0.001      -0.482      -0.125\n",
      "==============================================================================\n",
      "Omnibus:                       25.837   Durbin-Watson:                   1.653\n",
      "Prob(Omnibus):                  0.000   Jarque-Bera (JB):               64.090\n",
      "Skew:                          -0.835   Prob(JB):                     1.21e-14\n",
      "Kurtosis:                       6.308   Cond. No.                     7.88e+03\n",
      "==============================================================================\n",
      "\n",
      "Notes:\n",
      "[1] Standard Errors assume that the covariance matrix of the errors is correctly specified.\n",
      "[2] The condition number is large, 7.88e+03. This might indicate that there are\n",
      "strong multicollinearity or other numerical problems.\n"
     ]
    }
   ],
   "source": [
    "# Create regression model for (1)\n",
    "model11 = sm.OLS(c_t, X11).fit()\n",
    "print(model11.summary())"
   ]
  },
  {
   "cell_type": "code",
   "execution_count": 16,
   "metadata": {},
   "outputs": [],
   "source": [
    "# residuals \n",
    "predictions11 = model11.fittedvalues\n",
    "\n",
    "resid11 = []\n",
    "for i in range(len(c_t)):\n",
    "    resid11.append(c_t[i] - predictions11[i])\n",
    "    \n",
    "N11 = [i for i in range(len(c_t))]"
   ]
  },
  {
   "cell_type": "code",
   "execution_count": 17,
   "metadata": {},
   "outputs": [
    {
     "data": {
      "text/plain": [
       "<matplotlib.collections.LineCollection at 0x118503748>"
      ]
     },
     "execution_count": 17,
     "metadata": {},
     "output_type": "execute_result"
    },
    {
     "data": {
      "image/png": "[encoded data removed]",
      "text/plain": [
       "<Figure size 432x288 with 1 Axes>"
      ]
     },
     "metadata": {
      "needs_background": "light"
     },
     "output_type": "display_data"
    }
   ],
   "source": [
    "# Plot the residuals\n",
    "import matplotlib\n",
    "import matplotlib.pyplot as plt\n",
    "%matplotlib inline\n",
    "# plt.scatter(N, residuals1, c = 'blue', marker = 'x', label = 'simulated')\n",
    "plt.scatter(N11, resid11, c = 'red', marker = 'o', label = 'real')\n",
    "plt.hlines(0, N[0], N[-1])"
   ]
  },
  {
   "cell_type": "code",
   "execution_count": 18,
   "metadata": {},
   "outputs": [
    {
     "data": {
      "text/plain": [
       "<matplotlib.collections.PathCollection at 0x118520668>"
      ]
     },
     "execution_count": 18,
     "metadata": {},
     "output_type": "execute_result"
    },
    {
     "data": {
      "image/png": "[encoded data removed]",
      "text/plain": [
       "<Figure size 432x288 with 1 Axes>"
      ]
     },
     "metadata": {
      "needs_background": "light"
     },
     "output_type": "display_data"
    }
   ],
   "source": [
    "%matplotlib inline\n",
    "plt.scatter(N, predictions11, c = 'red', marker = 'v', label = 'real')\n",
    "plt.scatter(N, c_t, c = 'blue', marker = 'x', label = 'real')"
   ]
  },
  {
   "cell_type": "code",
   "execution_count": null,
   "metadata": {},
   "outputs": [],
   "source": []
  }
 ],
 "metadata": {
  "kernelspec": {
   "display_name": "Python 3",
   "language": "python",
   "name": "python3"
  },
  "language_info": {
   "codemirror_mode": {
    "name": "ipython",
    "version": 3
   },
   "file_extension": ".py",
   "mimetype": "text/x-python",
   "name": "python",
   "nbconvert_exporter": "python",
   "pygments_lexer": "ipython3",
   "version": "3.7.3"
  }
 },
 "nbformat": 4,
 "nbformat_minor": 2
}
